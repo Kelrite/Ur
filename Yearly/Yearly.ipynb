{
 "cells": [
  {
   "cell_type": "code",
   "execution_count": 1,
   "id": "494ca8b0",
   "metadata": {},
   "outputs": [
    {
     "data": {
      "text/html": [
       "<div>\n",
       "<style scoped>\n",
       "    .dataframe tbody tr th:only-of-type {\n",
       "        vertical-align: middle;\n",
       "    }\n",
       "\n",
       "    .dataframe tbody tr th {\n",
       "        vertical-align: top;\n",
       "    }\n",
       "\n",
       "    .dataframe thead th {\n",
       "        text-align: right;\n",
       "    }\n",
       "</style>\n",
       "<table border=\"1\" class=\"dataframe\">\n",
       "  <thead>\n",
       "    <tr style=\"text-align: right;\">\n",
       "      <th></th>\n",
       "      <th>trans_id</th>\n",
       "      <th>pay_card_id</th>\n",
       "      <th>pay_card_bank</th>\n",
       "      <th>pay_card_name</th>\n",
       "      <th>pay_card_sex</th>\n",
       "      <th>pay_card_birth_date</th>\n",
       "    </tr>\n",
       "  </thead>\n",
       "  <tbody>\n",
       "    <tr>\n",
       "      <th>0</th>\n",
       "      <td>EIIW227B8L34VB</td>\n",
       "      <td>180062659848800</td>\n",
       "      <td>emoney</td>\n",
       "      <td>Bajragin Usada</td>\n",
       "      <td>M</td>\n",
       "      <td>2008</td>\n",
       "    </tr>\n",
       "    <tr>\n",
       "      <th>1</th>\n",
       "      <td>LGXO740D2N47GZ</td>\n",
       "      <td>4885331907664776</td>\n",
       "      <td>dki</td>\n",
       "      <td>Gandi Widodo</td>\n",
       "      <td>F</td>\n",
       "      <td>1997</td>\n",
       "    </tr>\n",
       "    <tr>\n",
       "      <th>2</th>\n",
       "      <td>DJWR385V2U57TO</td>\n",
       "      <td>4996225095064169</td>\n",
       "      <td>dki</td>\n",
       "      <td>Emong Wastuti</td>\n",
       "      <td>F</td>\n",
       "      <td>1992</td>\n",
       "    </tr>\n",
       "    <tr>\n",
       "      <th>3</th>\n",
       "      <td>JTUZ800U7C86EH</td>\n",
       "      <td>639099174703</td>\n",
       "      <td>flazz</td>\n",
       "      <td>Surya Wacana</td>\n",
       "      <td>F</td>\n",
       "      <td>1978</td>\n",
       "    </tr>\n",
       "    <tr>\n",
       "      <th>4</th>\n",
       "      <td>VMLO535V7F95NJ</td>\n",
       "      <td>570928206772</td>\n",
       "      <td>flazz</td>\n",
       "      <td>Embuh Mardhiyah</td>\n",
       "      <td>M</td>\n",
       "      <td>1982</td>\n",
       "    </tr>\n",
       "  </tbody>\n",
       "</table>\n",
       "</div>"
      ],
      "text/plain": [
       "         trans_id       pay_card_id pay_card_bank    pay_card_name  \\\n",
       "0  EIIW227B8L34VB   180062659848800        emoney   Bajragin Usada   \n",
       "1  LGXO740D2N47GZ  4885331907664776           dki     Gandi Widodo   \n",
       "2  DJWR385V2U57TO  4996225095064169           dki    Emong Wastuti   \n",
       "3  JTUZ800U7C86EH      639099174703         flazz     Surya Wacana   \n",
       "4  VMLO535V7F95NJ      570928206772         flazz  Embuh Mardhiyah   \n",
       "\n",
       "  pay_card_sex  pay_card_birth_date  \n",
       "0            M                 2008  \n",
       "1            F                 1997  \n",
       "2            F                 1992  \n",
       "3            F                 1978  \n",
       "4            M                 1982  "
      ]
     },
     "execution_count": 1,
     "metadata": {},
     "output_type": "execute_result"
    }
   ],
   "source": [
    "import pandas, warnings\n",
    "\n",
    "import matplotlib.pyplot as plt\n",
    "\n",
    "warnings.filterwarnings(\"ignore\")\n",
    "\n",
    "plt.style.use(\"seaborn-whitegrid\")\n",
    "\n",
    "reader = lambda url, **multiargs : pandas.read_table(url, sep=\",\", **multiargs)\n",
    "\n",
    "url = \"okajakpril.csv\"\n",
    "\n",
    "origin = reader(url, parse_dates=[\"tap_in_time\", \"tap_out_time\"])\n",
    "\n",
    "origin.iloc[:5, :6]"
   ]
  },
  {
   "cell_type": "code",
   "execution_count": 2,
   "id": "b767c932",
   "metadata": {},
   "outputs": [
    {
     "data": {
      "text/html": [
       "<div>\n",
       "<style scoped>\n",
       "    .dataframe tbody tr th:only-of-type {\n",
       "        vertical-align: middle;\n",
       "    }\n",
       "\n",
       "    .dataframe tbody tr th {\n",
       "        vertical-align: top;\n",
       "    }\n",
       "\n",
       "    .dataframe thead th {\n",
       "        text-align: right;\n",
       "    }\n",
       "</style>\n",
       "<table border=\"1\" class=\"dataframe\">\n",
       "  <thead>\n",
       "    <tr style=\"text-align: right;\">\n",
       "      <th></th>\n",
       "      <th>corridor_id</th>\n",
       "      <th>corridor</th>\n",
       "      <th>direction</th>\n",
       "      <th>tap_in_stop</th>\n",
       "      <th>tap_in_stop_name</th>\n",
       "      <th>stop_start_seq</th>\n",
       "    </tr>\n",
       "  </thead>\n",
       "  <tbody>\n",
       "    <tr>\n",
       "      <th>0</th>\n",
       "      <td>5</td>\n",
       "      <td>Matraman Baru - Ancol</td>\n",
       "      <td>1.0</td>\n",
       "      <td>P00142</td>\n",
       "      <td>Pal Putih</td>\n",
       "      <td>7</td>\n",
       "    </tr>\n",
       "    <tr>\n",
       "      <th>1</th>\n",
       "      <td>6C</td>\n",
       "      <td>Stasiun Tebet - Karet via Patra Kuningan</td>\n",
       "      <td>0.0</td>\n",
       "      <td>B01963P</td>\n",
       "      <td>Kemenkes 2</td>\n",
       "      <td>13</td>\n",
       "    </tr>\n",
       "    <tr>\n",
       "      <th>2</th>\n",
       "      <td>R1A</td>\n",
       "      <td>Pantai Maju - Kota</td>\n",
       "      <td>0.0</td>\n",
       "      <td>B00499P</td>\n",
       "      <td>Gg. Kunir II</td>\n",
       "      <td>38</td>\n",
       "    </tr>\n",
       "    <tr>\n",
       "      <th>3</th>\n",
       "      <td>11D</td>\n",
       "      <td>Pulo Gebang - Pulo Gadung 2 via PIK</td>\n",
       "      <td>0.0</td>\n",
       "      <td>B05587P</td>\n",
       "      <td>Taman Elok 1</td>\n",
       "      <td>23</td>\n",
       "    </tr>\n",
       "    <tr>\n",
       "      <th>4</th>\n",
       "      <td>12</td>\n",
       "      <td>Tanjung Priok - Pluit</td>\n",
       "      <td>0.0</td>\n",
       "      <td>P00239</td>\n",
       "      <td>Sunter Boulevard Barat</td>\n",
       "      <td>5</td>\n",
       "    </tr>\n",
       "  </tbody>\n",
       "</table>\n",
       "</div>"
      ],
      "text/plain": [
       "  corridor_id                                  corridor  direction  \\\n",
       "0           5                     Matraman Baru - Ancol        1.0   \n",
       "1          6C  Stasiun Tebet - Karet via Patra Kuningan        0.0   \n",
       "2         R1A                        Pantai Maju - Kota        0.0   \n",
       "3         11D       Pulo Gebang - Pulo Gadung 2 via PIK        0.0   \n",
       "4          12                     Tanjung Priok - Pluit        0.0   \n",
       "\n",
       "  tap_in_stop        tap_in_stop_name  stop_start_seq  \n",
       "0      P00142               Pal Putih               7  \n",
       "1     B01963P              Kemenkes 2              13  \n",
       "2     B00499P            Gg. Kunir II              38  \n",
       "3     B05587P            Taman Elok 1              23  \n",
       "4      P00239  Sunter Boulevard Barat               5  "
      ]
     },
     "execution_count": 2,
     "metadata": {},
     "output_type": "execute_result"
    }
   ],
   "source": [
    "origin.iloc[:5, 6:12]"
   ]
  },
  {
   "cell_type": "code",
   "execution_count": 3,
   "id": "4568d331",
   "metadata": {},
   "outputs": [
    {
     "data": {
      "text/html": [
       "<div>\n",
       "<style scoped>\n",
       "    .dataframe tbody tr th:only-of-type {\n",
       "        vertical-align: middle;\n",
       "    }\n",
       "\n",
       "    .dataframe tbody tr th {\n",
       "        vertical-align: top;\n",
       "    }\n",
       "\n",
       "    .dataframe thead th {\n",
       "        text-align: right;\n",
       "    }\n",
       "</style>\n",
       "<table border=\"1\" class=\"dataframe\">\n",
       "  <thead>\n",
       "    <tr style=\"text-align: right;\">\n",
       "      <th></th>\n",
       "      <th>tap_in_time</th>\n",
       "      <th>tap_out_stop</th>\n",
       "      <th>tap_out_stop_name</th>\n",
       "      <th>stop_end_seq</th>\n",
       "      <th>tap_out_time</th>\n",
       "      <th>profit</th>\n",
       "      <th>in_day</th>\n",
       "      <th>selisih</th>\n",
       "      <th>in_hour</th>\n",
       "    </tr>\n",
       "  </thead>\n",
       "  <tbody>\n",
       "    <tr>\n",
       "      <th>0</th>\n",
       "      <td>2023-04-03 05:21:44</td>\n",
       "      <td>P00253</td>\n",
       "      <td>Tegalan</td>\n",
       "      <td>12.0</td>\n",
       "      <td>2023-04-03 06:00:53</td>\n",
       "      <td>3500</td>\n",
       "      <td>Monday</td>\n",
       "      <td>39</td>\n",
       "      <td>5</td>\n",
       "    </tr>\n",
       "    <tr>\n",
       "      <th>1</th>\n",
       "      <td>2023-04-03 05:42:44</td>\n",
       "      <td>B03307P</td>\n",
       "      <td>Sampoerna Strategic</td>\n",
       "      <td>21.0</td>\n",
       "      <td>2023-04-03 06:40:01</td>\n",
       "      <td>3500</td>\n",
       "      <td>Monday</td>\n",
       "      <td>57</td>\n",
       "      <td>5</td>\n",
       "    </tr>\n",
       "    <tr>\n",
       "      <th>2</th>\n",
       "      <td>2023-04-03 05:59:06</td>\n",
       "      <td>B04962P</td>\n",
       "      <td>Simpang Kunir Kemukus</td>\n",
       "      <td>39.0</td>\n",
       "      <td>2023-04-03 06:50:55</td>\n",
       "      <td>3500</td>\n",
       "      <td>Monday</td>\n",
       "      <td>51</td>\n",
       "      <td>5</td>\n",
       "    </tr>\n",
       "    <tr>\n",
       "      <th>3</th>\n",
       "      <td>2023-04-03 05:44:51</td>\n",
       "      <td>B03090P</td>\n",
       "      <td>Raya Penggilingan</td>\n",
       "      <td>29.0</td>\n",
       "      <td>2023-04-03 06:28:16</td>\n",
       "      <td>3500</td>\n",
       "      <td>Monday</td>\n",
       "      <td>43</td>\n",
       "      <td>5</td>\n",
       "    </tr>\n",
       "    <tr>\n",
       "      <th>4</th>\n",
       "      <td>2023-04-03 06:17:35</td>\n",
       "      <td>P00098</td>\n",
       "      <td>Kali Besar Barat</td>\n",
       "      <td>15.0</td>\n",
       "      <td>2023-04-03 06:57:03</td>\n",
       "      <td>3500</td>\n",
       "      <td>Monday</td>\n",
       "      <td>39</td>\n",
       "      <td>6</td>\n",
       "    </tr>\n",
       "  </tbody>\n",
       "</table>\n",
       "</div>"
      ],
      "text/plain": [
       "          tap_in_time tap_out_stop      tap_out_stop_name  stop_end_seq  \\\n",
       "0 2023-04-03 05:21:44       P00253                Tegalan          12.0   \n",
       "1 2023-04-03 05:42:44      B03307P    Sampoerna Strategic          21.0   \n",
       "2 2023-04-03 05:59:06      B04962P  Simpang Kunir Kemukus          39.0   \n",
       "3 2023-04-03 05:44:51      B03090P      Raya Penggilingan          29.0   \n",
       "4 2023-04-03 06:17:35       P00098       Kali Besar Barat          15.0   \n",
       "\n",
       "         tap_out_time  profit  in_day  selisih  in_hour  \n",
       "0 2023-04-03 06:00:53    3500  Monday       39        5  \n",
       "1 2023-04-03 06:40:01    3500  Monday       57        5  \n",
       "2 2023-04-03 06:50:55    3500  Monday       51        5  \n",
       "3 2023-04-03 06:28:16    3500  Monday       43        5  \n",
       "4 2023-04-03 06:57:03    3500  Monday       39        6  "
      ]
     },
     "execution_count": 3,
     "metadata": {},
     "output_type": "execute_result"
    }
   ],
   "source": [
    "origin.iloc[:5, 12:]"
   ]
  },
  {
   "cell_type": "code",
   "execution_count": 4,
   "id": "4d74f0d2",
   "metadata": {},
   "outputs": [
    {
     "data": {
      "text/plain": [
       "0"
      ]
     },
     "execution_count": 4,
     "metadata": {},
     "output_type": "execute_result"
    }
   ],
   "source": [
    "null = origin.isnull().sum()\n",
    "\n",
    "null.sum()"
   ]
  },
  {
   "cell_type": "code",
   "execution_count": 5,
   "id": "3454148e",
   "metadata": {},
   "outputs": [
    {
     "data": {
      "text/plain": [
       "0"
      ]
     },
     "execution_count": 5,
     "metadata": {},
     "output_type": "execute_result"
    }
   ],
   "source": [
    "double = origin.duplicated()\n",
    "\n",
    "double.sum()"
   ]
  },
  {
   "cell_type": "code",
   "execution_count": 6,
   "id": "b2454947",
   "metadata": {},
   "outputs": [
    {
     "data": {
      "text/plain": [
       "86359000"
      ]
     },
     "execution_count": 6,
     "metadata": {},
     "output_type": "execute_result"
    }
   ],
   "source": [
    "totalprofit = origin[\"profit\"].sum()\n",
    "\n",
    "totalprofit"
   ]
  },
  {
   "cell_type": "code",
   "execution_count": 7,
   "id": "18ab9e2c",
   "metadata": {},
   "outputs": [
    {
     "data": {
      "image/png": "[encoded data removed]",
      "text/plain": [
       "<Figure size 640x480 with 1 Axes>"
      ]
     },
     "metadata": {},
     "output_type": "display_data"
    }
   ],
   "source": [
    "total = origin[\"profit\"].value_counts()\n",
    "\n",
    "plot = total.plot.bar(title=\"Total Price\", rot=0)\n",
    "\n",
    "plot.set_xlabel(\"Price\")\n",
    "\n",
    "plot.set_ylabel(\"Total\")\n",
    "\n",
    "plot.bar_label(plot.containers[0]);"
   ]
  },
  {
   "cell_type": "code",
   "execution_count": 8,
   "id": "2e3f9e78",
   "metadata": {},
   "outputs": [
    {
     "data": {
      "text/plain": [
       "46.473385"
      ]
     },
     "execution_count": 8,
     "metadata": {},
     "output_type": "execute_result"
    }
   ],
   "source": [
    "nul = origin[origin[\"profit\"] == 0]\n",
    "\n",
    "sel = round(len(nul) / len(origin), 8) * 100\n",
    "\n",
    "sel"
   ]
  },
  {
   "cell_type": "code",
   "execution_count": 9,
   "id": "d9ec6ee1",
   "metadata": {},
   "outputs": [
    {
     "data": {
      "text/plain": [
       "78.736467"
      ]
     },
     "execution_count": 9,
     "metadata": {},
     "output_type": "execute_result"
    }
   ],
   "source": [
    "jak = nul[nul[\"corridor_id\"].str.startswith(\"JAK\")]\n",
    "\n",
    "sel = round(len(jak) / len(nul), 8) * 100\n",
    "\n",
    "sel"
   ]
  },
  {
   "cell_type": "code",
   "execution_count": 10,
   "id": "ff229cda",
   "metadata": {},
   "outputs": [
    {
     "data": {
      "text/plain": [
       "36.591502"
      ]
     },
     "execution_count": 10,
     "metadata": {},
     "output_type": "execute_result"
    }
   ],
   "source": [
    "sel = round(len(jak) / len(origin), 8) * 100\n",
    "\n",
    "sel"
   ]
  },
  {
   "cell_type": "code",
   "execution_count": 11,
   "id": "6a99333b",
   "metadata": {},
   "outputs": [
    {
     "data": {
      "text/html": [
       "<div>\n",
       "<style scoped>\n",
       "    .dataframe tbody tr th:only-of-type {\n",
       "        vertical-align: middle;\n",
       "    }\n",
       "\n",
       "    .dataframe tbody tr th {\n",
       "        vertical-align: top;\n",
       "    }\n",
       "\n",
       "    .dataframe thead th {\n",
       "        text-align: right;\n",
       "    }\n",
       "</style>\n",
       "<table border=\"1\" class=\"dataframe\">\n",
       "  <thead>\n",
       "    <tr style=\"text-align: right;\">\n",
       "      <th></th>\n",
       "      <th>tap_out_time</th>\n",
       "      <th>profit</th>\n",
       "      <th>in_day</th>\n",
       "      <th>selisih</th>\n",
       "      <th>in_hour</th>\n",
       "      <th>jak</th>\n",
       "    </tr>\n",
       "  </thead>\n",
       "  <tbody>\n",
       "    <tr>\n",
       "      <th>9</th>\n",
       "      <td>2023-04-03 06:50:21</td>\n",
       "      <td>0</td>\n",
       "      <td>Monday</td>\n",
       "      <td>28</td>\n",
       "      <td>6</td>\n",
       "      <td>0</td>\n",
       "    </tr>\n",
       "    <tr>\n",
       "      <th>12</th>\n",
       "      <td>2023-04-03 06:09:17</td>\n",
       "      <td>0</td>\n",
       "      <td>Monday</td>\n",
       "      <td>30</td>\n",
       "      <td>5</td>\n",
       "      <td>1</td>\n",
       "    </tr>\n",
       "    <tr>\n",
       "      <th>17</th>\n",
       "      <td>2023-04-03 07:30:45</td>\n",
       "      <td>0</td>\n",
       "      <td>Monday</td>\n",
       "      <td>46</td>\n",
       "      <td>6</td>\n",
       "      <td>1</td>\n",
       "    </tr>\n",
       "    <tr>\n",
       "      <th>21</th>\n",
       "      <td>2023-04-03 06:12:52</td>\n",
       "      <td>0</td>\n",
       "      <td>Monday</td>\n",
       "      <td>29</td>\n",
       "      <td>5</td>\n",
       "      <td>1</td>\n",
       "    </tr>\n",
       "    <tr>\n",
       "      <th>24</th>\n",
       "      <td>2023-04-03 06:42:12</td>\n",
       "      <td>0</td>\n",
       "      <td>Monday</td>\n",
       "      <td>52</td>\n",
       "      <td>5</td>\n",
       "      <td>0</td>\n",
       "    </tr>\n",
       "  </tbody>\n",
       "</table>\n",
       "</div>"
      ],
      "text/plain": [
       "          tap_out_time  profit  in_day  selisih  in_hour  jak\n",
       "9  2023-04-03 06:50:21       0  Monday       28        6    0\n",
       "12 2023-04-03 06:09:17       0  Monday       30        5    1\n",
       "17 2023-04-03 07:30:45       0  Monday       46        6    1\n",
       "21 2023-04-03 06:12:52       0  Monday       29        5    1\n",
       "24 2023-04-03 06:42:12       0  Monday       52        5    0"
      ]
     },
     "execution_count": 11,
     "metadata": {},
     "output_type": "execute_result"
    }
   ],
   "source": [
    "import numpy as np\n",
    "\n",
    "nul[\"jak\"] = np.where(nul[\"corridor_id\"].str.startswith(\"JAK\"), 1, 0)\n",
    "\n",
    "nul.iloc[:5, 16:]"
   ]
  },
  {
   "cell_type": "code",
   "execution_count": 12,
   "id": "6a8d49b1",
   "metadata": {},
   "outputs": [
    {
     "data": {
      "image/png": "[encoded data removed]",
      "text/plain": [
       "<Figure size 640x480 with 1 Axes>"
      ]
     },
     "metadata": {},
     "output_type": "display_data"
    }
   ],
   "source": [
    "jato = nul[\"jak\"].value_counts()\n",
    "\n",
    "plot = jato.plot.bar(rot=0, title=\"Jaklingko in 0\")\n",
    "\n",
    "plot.set_xlabel(\"Jaklingko\")\n",
    "\n",
    "plot.set_ylabel(\"Total\")\n",
    "\n",
    "plot.bar_label(plot.containers[0]);"
   ]
  },
  {
   "cell_type": "code",
   "execution_count": 13,
   "id": "addebfe7",
   "metadata": {},
   "outputs": [
    {
     "data": {
      "image/png": "[encoded data removed]",
      "text/plain": [
       "<Figure size 640x480 with 1 Axes>"
      ]
     },
     "metadata": {},
     "output_type": "display_data"
    }
   ],
   "source": [
    "origin[\"jak\"] = np.where(origin[\"corridor_id\"].str.startswith(\"JAK\"), 1, 0)\n",
    "\n",
    "jato = origin[\"jak\"].value_counts()\n",
    "\n",
    "title = \"Jaklingko in Original\"\n",
    "\n",
    "plot = jato.plot.bar(rot=0, title=title)\n",
    "\n",
    "plot.set_xlabel(\"Jaklingko\")\n",
    "\n",
    "plot.set_ylabel(\"Total\")\n",
    "\n",
    "plot.bar_label(plot.containers[0]);"
   ]
  }
 ],
 "metadata": {
  "kernelspec": {
   "display_name": "Python 3 (ipykernel)",
   "language": "python",
   "name": "python3"
  },
  "language_info": {
   "codemirror_mode": {
    "name": "ipython",
    "version": 3
   },
   "file_extension": ".py",
   "mimetype": "text/x-python",
   "name": "python",
   "nbconvert_exporter": "python",
   "pygments_lexer": "ipython3",
   "version": "3.9.13"
  }
 },
 "nbformat": 4,
 "nbformat_minor": 5
}
